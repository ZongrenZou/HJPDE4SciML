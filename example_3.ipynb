{
 "cells": [
  {
   "cell_type": "code",
   "execution_count": 1,
   "id": "49f6868b",
   "metadata": {},
   "outputs": [],
   "source": [
    "import os\n",
    "\n",
    "os.environ[\"CUDA_VISIBLE_DEVICES\"] = \"-1\"\n",
    "\n",
    "import numpy as np\n",
    "import scipy.io as sio\n",
    "import matplotlib.pyplot as plt\n",
    "import time\n",
    "\n",
    "from numba import njit\n",
    "\n",
    "import tensorflow as tf\n",
    "import models\n",
    "import methods"
   ]
  },
  {
   "cell_type": "code",
   "execution_count": 2,
   "id": "336cd8bf",
   "metadata": {
    "scrolled": true
   },
   "outputs": [
    {
     "name": "stderr",
     "output_type": "stream",
     "text": [
      "2023-11-06 17:28:19.304507: E tensorflow/stream_executor/cuda/cuda_driver.cc:271] failed call to cuInit: CUDA_ERROR_NO_DEVICE: no CUDA-capable device is detected\n",
      "2023-11-06 17:28:19.304577: I tensorflow/stream_executor/cuda/cuda_diagnostics.cc:169] retrieving CUDA diagnostic information for host: apma-gpu-11\n",
      "2023-11-06 17:28:19.304590: I tensorflow/stream_executor/cuda/cuda_diagnostics.cc:176] hostname: apma-gpu-11\n",
      "2023-11-06 17:28:19.304705: I tensorflow/stream_executor/cuda/cuda_diagnostics.cc:200] libcuda reported version is: 470.182.3\n",
      "2023-11-06 17:28:19.304750: I tensorflow/stream_executor/cuda/cuda_diagnostics.cc:204] kernel reported version is: 470.182.3\n",
      "2023-11-06 17:28:19.304763: I tensorflow/stream_executor/cuda/cuda_diagnostics.cc:310] kernel version seems to match DSO: 470.182.3\n"
     ]
    }
   ],
   "source": [
    "meta = models.Meta(num_tasks=4, dim=100, dtype=tf.float64, name=\"meta_0\")\n",
    "meta.restore()"
   ]
  },
  {
   "cell_type": "code",
   "execution_count": 3,
   "id": "a7e16250",
   "metadata": {},
   "outputs": [],
   "source": [
    "data = sio.loadmat(\"./data/example_3_train.mat\")\n",
    "x_test = data[\"x_test\"]\n",
    "y_test = data[\"y_test\"]\n",
    "f_test = data[\"f_test\"]\n",
    "u_test = data[\"u_test\"]\n",
    "x_train = data[\"x_train\"]\n",
    "y_train = data[\"y_train\"]\n",
    "f_train = data[\"f_train\"]"
   ]
  },
  {
   "cell_type": "code",
   "execution_count": 4,
   "id": "f8894c27",
   "metadata": {},
   "outputs": [],
   "source": [
    "basis = meta.basis(\n",
    "    x_train, y_train\n",
    ")\n",
    "_basis, basis_xx, basis_yy = meta.pde2(x_train, y_train)\n",
    "Phi = (basis_xx + basis_yy).numpy()\n",
    "b = f_train.astype(np.float64)\n",
    "Phi = Phi.astype(np.float64)\n",
    "eps = 1\n",
    "\n",
    "# least square\n",
    "XTX = np.matmul(Phi.T, Phi)\n",
    "bb = np.matmul(Phi.T, b)\n",
    "\n",
    "c_ref = np.linalg.solve(XTX + eps * np.eye(100, dtype=np.float64), bb)\n",
    "\n",
    "f_pred = meta.pde(x_train, y_train, tf.constant(c_ref, tf.float64)).numpy()\n",
    "objective = np.sum((f_pred - f_train) ** 2) + eps * np.sum(c_ref ** 2)\n",
    "L_ref = objective.copy()"
   ]
  },
  {
   "cell_type": "code",
   "execution_count": 5,
   "id": "5dc778be",
   "metadata": {},
   "outputs": [
    {
     "name": "stdout",
     "output_type": "stream",
     "text": [
      "0.06524705473006423\n"
     ]
    }
   ],
   "source": [
    "basis = meta.basis(\n",
    "    tf.constant(x_test.reshape([-1, 1]), tf.float64),\n",
    "    tf.constant(y_test.reshape([-1, 1]), tf.float64),\n",
    ")\n",
    "\n",
    "u_pred = tf.matmul(basis, c_ref).numpy()\n",
    "u_pred = u_pred.reshape([257, 257])\n",
    "\n",
    "L2 = np.linalg.norm((u_pred-u_test).reshape([-1, 1]), 2) / np.linalg.norm(u_test.reshape([-1, 1]), 2)\n",
    "print(L2)"
   ]
  },
  {
   "cell_type": "markdown",
   "id": "398115c9",
   "metadata": {},
   "source": [
    "#### Solving the problem with RK4 \n",
    "\n",
    "This could be replaced by the method of least squares."
   ]
  },
  {
   "cell_type": "code",
   "execution_count": 6,
   "id": "e251260a",
   "metadata": {
    "scrolled": true
   },
   "outputs": [
    {
     "name": "stdout",
     "output_type": "stream",
     "text": [
      "0 4.47748064994812\n",
      "1 4.299833059310913\n",
      "2 5.490551948547363\n",
      "3 4.49864387512207\n",
      "4 4.547391176223755\n",
      "5 4.521570682525635\n",
      "6 4.461025953292847\n",
      "7 4.304104804992676\n",
      "8 4.434678316116333\n",
      "9 4.751508712768555\n",
      "10 4.903913974761963\n",
      "11 5.48538875579834\n",
      "12 6.786831617355347\n",
      "13 6.396679639816284\n",
      "14 8.476160764694214\n",
      "15 6.3316895961761475\n",
      "16 5.917423963546753\n",
      "17 4.648803472518921\n",
      "18 3.959953546524048\n",
      "19 4.190690994262695\n",
      "20 4.059259414672852\n",
      "21 4.488988876342773\n",
      "22 4.334128141403198\n",
      "23 4.05543327331543\n",
      "24 4.143497705459595\n",
      "25 4.024846792221069\n",
      "26 4.151228427886963\n",
      "27 4.117241859436035\n",
      "28 4.0580034255981445\n",
      "29 4.69564962387085\n",
      "30 5.334011793136597\n",
      "31 4.105241298675537\n",
      "32 4.506026029586792\n",
      "33 4.281184673309326\n",
      "34 4.314762115478516\n",
      "35 3.9682834148406982\n",
      "36 4.08218789100647\n",
      "37 4.4536638259887695\n",
      "38 3.9086623191833496\n",
      "39 4.078643083572388\n",
      "40 4.28018045425415\n",
      "41 3.9034435749053955\n",
      "42 4.220653533935547\n",
      "43 3.875859260559082\n",
      "44 3.9824092388153076\n",
      "45 3.901838541030884\n",
      "46 4.103559494018555\n",
      "47 3.9593522548675537\n",
      "48 4.0132341384887695\n",
      "49 4.279739618301392\n",
      "50 4.081847667694092\n",
      "51 4.029807090759277\n",
      "52 4.139409780502319\n",
      "53 4.021218299865723\n",
      "54 3.9147138595581055\n",
      "55 4.499704599380493\n",
      "56 3.629831552505493\n",
      "57 4.302573204040527\n",
      "58 4.089507818222046\n",
      "59 3.9631993770599365\n",
      "60 3.9881696701049805\n",
      "61 4.005997896194458\n",
      "62 3.9220774173736572\n",
      "63 4.0982489585876465\n",
      "64 4.279928922653198\n",
      "65 3.800579786300659\n",
      "66 4.0719099044799805\n",
      "67 4.136328458786011\n",
      "68 3.922290325164795\n",
      "69 4.065229654312134\n",
      "70 4.040323972702026\n",
      "71 4.303897142410278\n",
      "72 4.282952547073364\n",
      "73 3.9705965518951416\n",
      "74 4.115210294723511\n",
      "75 3.9434056282043457\n",
      "76 3.9409537315368652\n",
      "77 4.043209552764893\n",
      "78 4.857438564300537\n",
      "79 4.490936279296875\n",
      "80 4.226921796798706\n",
      "81 4.436902761459351\n",
      "82 4.399978399276733\n",
      "83 4.315498352050781\n",
      "84 4.251835823059082\n",
      "85 4.2304723262786865\n",
      "86 4.456877946853638\n",
      "87 4.477788925170898\n",
      "88 4.404587030410767\n",
      "89 4.146156072616577\n",
      "90 4.383542776107788\n",
      "91 4.412156105041504\n",
      "92 4.510599613189697\n",
      "93 4.376566410064697\n",
      "94 4.563730955123901\n",
      "95 4.269603729248047\n",
      "96 4.244253635406494\n",
      "97 4.2700419425964355\n",
      "98 4.369495153427124\n",
      "99 4.468950510025024\n"
     ]
    }
   ],
   "source": [
    "P0 = np.eye(100) / eps\n",
    "q0 = np.zeros([Phi.shape[1], 1])\n",
    "h = 0.001\n",
    "Ps = [P0]\n",
    "qs = [q0]\n",
    "# update = njit(methods.update)\n",
    "update = methods.update_RK4\n",
    "t0 = time.time()\n",
    "\n",
    "for i in range(x_train.shape[0]):\n",
    "    # P, q = methods.update_RK4(Ps[-1], qs[-1], h, Phi[i:i+1, :], b[i:i+1, :], lamb=1)\n",
    "    P, q = update(Ps[-1], qs[-1], h, Phi[i:i+1, :], b[i:i+1, :], lamb=1)\n",
    "    Ps += [P]\n",
    "    qs += [q]\n",
    "    t1 = time.time()\n",
    "    print(i, t1 - t0)\n",
    "    t0 = time.time()"
   ]
  },
  {
   "cell_type": "code",
   "execution_count": 7,
   "id": "e9134abb",
   "metadata": {},
   "outputs": [
    {
     "name": "stdout",
     "output_type": "stream",
     "text": [
      "5.970298153426534e-10\n",
      "0.06524705473412278\n"
     ]
    }
   ],
   "source": [
    "print(np.linalg.norm(q - c_ref, 1))\n",
    "u_pred = tf.matmul(basis, q).numpy()\n",
    "u_pred = u_pred.reshape([257, 257])\n",
    "L2 = np.linalg.norm((u_pred-u_test).reshape([-1, 1]), 2) / np.linalg.norm(u_test.reshape([-1, 1]), 2)\n",
    "print(L2)"
   ]
  },
  {
   "cell_type": "markdown",
   "id": "4ed90d12",
   "metadata": {},
   "source": [
    "#### Changing $\\alpha$ from $1$ to $0.1$"
   ]
  },
  {
   "cell_type": "code",
   "execution_count": 8,
   "id": "1efefef9",
   "metadata": {},
   "outputs": [],
   "source": [
    "P_1, q_1 = Ps[-1].copy(), qs[-1].copy()\n",
    "\n",
    "h = 0.01\n",
    "lamb = 1 - 0.1\n",
    "Ps_1, qs_1 = [P_1], [q_1]\n",
    "for j in range(int(lamb//h)):\n",
    "    for i in range(100):\n",
    "        phi_i = np.zeros(shape=[1, 100])\n",
    "        phi_i[0, i] = 1\n",
    "        b_i = np.zeros(shape=[1, 1])\n",
    "        P_1, q_1 = update(P_1, q_1, -h, phi_i, b_i, lamb=h)\n",
    "    Ps_1 += [P_1]\n",
    "    qs_1 += [q_1]"
   ]
  },
  {
   "cell_type": "code",
   "execution_count": 9,
   "id": "61c19cbf",
   "metadata": {},
   "outputs": [],
   "source": [
    "f1s_1 = []\n",
    "f2s_1 = []\n",
    "L2s_1 = []\n",
    "alphas_1 = []\n",
    "h = 0.01\n",
    "for i, _q_1 in enumerate(qs_1):\n",
    "    alphas_1 += [1 - i*h]\n",
    "    f_pred = meta.pde(x_train, y_train, tf.constant(_q_1, tf.float64)).numpy()\n",
    "    u_pred = tf.matmul(basis, _q_1).numpy().reshape([257, 257])\n",
    "    f1s_1 += [0.5 * np.sum((f_pred - f_train) ** 2)]\n",
    "    f2s_1 += [0.5 * np.sum(_q_1 ** 2)]\n",
    "    L2s_1 += [np.linalg.norm((u_pred-u_test).reshape([-1, 1]), 2) / np.linalg.norm(u_test.reshape([-1, 1]), 2)]"
   ]
  },
  {
   "cell_type": "code",
   "execution_count": 10,
   "id": "78ef8a77",
   "metadata": {},
   "outputs": [
    {
     "name": "stdout",
     "output_type": "stream",
     "text": [
      "1.517736310989535e-08\n",
      "0.05679266097011841\n"
     ]
    }
   ],
   "source": [
    "# check with reference\n",
    "c_ref = np.linalg.solve(XTX + 0.1 * np.eye(100, dtype=np.float64), bb)\n",
    "print(np.linalg.norm(q_1 - c_ref, 1))\n",
    "u_pred = tf.matmul(basis, q_1).numpy()\n",
    "u_pred = u_pred.reshape([257, 257])\n",
    "L2 = np.linalg.norm((u_pred-u_test).reshape([-1, 1]), 2) / np.linalg.norm(u_test.reshape([-1, 1]), 2)\n",
    "print(L2)"
   ]
  },
  {
   "cell_type": "markdown",
   "id": "6a948fa4",
   "metadata": {},
   "source": [
    "#### Changing $\\alpha$ from $0.1$ to $0.01$"
   ]
  },
  {
   "cell_type": "code",
   "execution_count": 11,
   "id": "83700bab",
   "metadata": {},
   "outputs": [],
   "source": [
    "P_2, q_2 = P_1.copy(), q_1.copy()\n",
    "\n",
    "h = 0.001\n",
    "lamb = 0.1 - 0.01\n",
    "Ps_2, qs_2 = [P_2], [q_2]\n",
    "for j in range(int(lamb//h)):\n",
    "    for i in range(100):\n",
    "        phi_i = np.zeros(shape=[1, 100])\n",
    "        phi_i[0, i] = 1\n",
    "        b_i = np.zeros(shape=[1, 1])\n",
    "        P_2, q_2 = methods.update_RK4(P_2, q_2, -h, phi_i, b_i, lamb=h)\n",
    "    Ps_2 += [P_2]\n",
    "    qs_2 += [q_2]"
   ]
  },
  {
   "cell_type": "code",
   "execution_count": 12,
   "id": "c769ceb3",
   "metadata": {},
   "outputs": [],
   "source": [
    "f1s_2 = []\n",
    "f2s_2 = []\n",
    "L2s_2 = []\n",
    "alphas_2 = []\n",
    "h = 0.001\n",
    "for i, _q_2 in enumerate(qs_2):\n",
    "    alphas_2 += [0.1 - i*h]\n",
    "    f_pred = meta.pde(x_train, y_train, tf.constant(_q_2, tf.float64)).numpy()\n",
    "    u_pred = tf.matmul(basis, _q_2).numpy().reshape([257, 257])\n",
    "    f1s_2 += [0.5 * np.sum((f_pred - f_train) ** 2)]\n",
    "    f2s_2 += [0.5 * np.sum(_q_2 ** 2)]\n",
    "    L2s_2 += [np.linalg.norm((u_pred-u_test).reshape([-1, 1]), 2) / np.linalg.norm(u_test.reshape([-1, 1]), 2)]"
   ]
  },
  {
   "cell_type": "code",
   "execution_count": 13,
   "id": "8fb99a61",
   "metadata": {},
   "outputs": [
    {
     "name": "stdout",
     "output_type": "stream",
     "text": [
      "1.135710039788882e-06\n",
      "0.030390077393291668\n"
     ]
    }
   ],
   "source": [
    "# check with reference\n",
    "c_ref = np.linalg.solve(XTX + 0.01 * np.eye(100, dtype=np.float64), bb)\n",
    "print(np.linalg.norm(q_2 - c_ref, 1))\n",
    "u_pred = tf.matmul(basis, q_2).numpy()\n",
    "u_pred = u_pred.reshape([257, 257])\n",
    "L2 = np.linalg.norm((u_pred-u_test).reshape([-1, 1]), 2) / np.linalg.norm(u_test.reshape([-1, 1]), 2)\n",
    "print(L2)"
   ]
  },
  {
   "cell_type": "markdown",
   "id": "7841ef85",
   "metadata": {},
   "source": [
    "#### Changing $\\alpha$ from $0.01$ to $0.001$"
   ]
  },
  {
   "cell_type": "code",
   "execution_count": 14,
   "id": "2b037192",
   "metadata": {},
   "outputs": [],
   "source": [
    "P_3, q_3 = P_2.copy(), q_2.copy()\n",
    "\n",
    "h = 0.0001\n",
    "lamb = 0.01 - 0.001\n",
    "Ps_3, qs_3 = [P_3], [q_3]\n",
    "for j in range(int(lamb//h)):\n",
    "    for i in range(100):\n",
    "        phi_i = np.zeros(shape=[1, 100])\n",
    "        phi_i[0, i] = 1\n",
    "        b_i = np.zeros(shape=[1, 1])\n",
    "        P_3, q_3 = methods.update_RK4(P_3, q_3, -h, phi_i, b_i, lamb=h)\n",
    "    Ps_3 += [P_3]\n",
    "    qs_3 += [q_3]"
   ]
  },
  {
   "cell_type": "code",
   "execution_count": 15,
   "id": "880037ec",
   "metadata": {},
   "outputs": [],
   "source": [
    "f1s_3 = []\n",
    "f2s_3 = []\n",
    "L2s_3 = []\n",
    "alphas_3 = []\n",
    "h = 0.0001\n",
    "for i, _q_3 in enumerate(qs_3):\n",
    "    alphas_3 += [0.01 - i*h]\n",
    "    f_pred = meta.pde(x_train, y_train, tf.constant(_q_3, tf.float64)).numpy()\n",
    "    u_pred = tf.matmul(basis, _q_3).numpy().reshape([257, 257])\n",
    "    f1s_3 += [0.5 * np.sum((f_pred - f_train) ** 2)]\n",
    "    f2s_3 += [0.5 * np.sum(_q_3 ** 2)]\n",
    "    L2s_3 += [np.linalg.norm((u_pred-u_test).reshape([-1, 1]), 2) / np.linalg.norm(u_test.reshape([-1, 1]), 2)]"
   ]
  },
  {
   "cell_type": "code",
   "execution_count": 16,
   "id": "93e63ebe",
   "metadata": {},
   "outputs": [
    {
     "name": "stdout",
     "output_type": "stream",
     "text": [
      "2.1213837884823117e-05\n",
      "0.01727971777237406\n"
     ]
    }
   ],
   "source": [
    "# check with reference\n",
    "c_ref = np.linalg.solve(XTX + 0.001 * np.eye(100, dtype=np.float64), bb)\n",
    "print(np.linalg.norm(q_3 - c_ref, 1))\n",
    "u_pred = tf.matmul(basis, q_3).numpy()\n",
    "u_pred = u_pred.reshape([257, 257])\n",
    "L2 = np.linalg.norm((u_pred-u_test).reshape([-1, 1]), 2) / np.linalg.norm(u_test.reshape([-1, 1]), 2)\n",
    "print(L2)"
   ]
  },
  {
   "cell_type": "markdown",
   "id": "5a5ea5b4",
   "metadata": {},
   "source": [
    "#### Changing $\\alpha$ from $0.001$ to $0.0001$"
   ]
  },
  {
   "cell_type": "code",
   "execution_count": 17,
   "id": "8436805a",
   "metadata": {},
   "outputs": [],
   "source": [
    "P_4, q_4 = P_3.copy(), q_3.copy()\n",
    "\n",
    "h = 0.000001\n",
    "lamb = 0.001 - 0.0001\n",
    "Ps_4, qs_4 = [P_4], [q_4]\n",
    "for j in range(int(lamb//h)):\n",
    "    for i in range(100):\n",
    "        phi_i = np.zeros(shape=[1, 100])\n",
    "        phi_i[0, i] = 1\n",
    "        b_i = np.zeros(shape=[1, 1])\n",
    "        P_4, q_4 = methods.update_RK4(P_4, q_4, -h, phi_i, b_i, lamb=h)\n",
    "    Ps_4 += [P_4]\n",
    "    qs_4 += [q_4]"
   ]
  },
  {
   "cell_type": "code",
   "execution_count": 18,
   "id": "00f65045",
   "metadata": {},
   "outputs": [],
   "source": [
    "f1s_4 = []\n",
    "f2s_4 = []\n",
    "L2s_4 = []\n",
    "alphas_4 = []\n",
    "h = 0.000001\n",
    "for i, _q_4 in enumerate(qs_4):\n",
    "    alphas_4 += [0.001 - i*h]\n",
    "    f_pred = meta.pde(x_train, y_train, tf.constant(_q_4, tf.float64)).numpy()\n",
    "    u_pred = tf.matmul(basis, _q_4).numpy().reshape([257, 257])\n",
    "    f1s_4 += [0.5 * np.sum((f_pred - f_train) ** 2)]\n",
    "    f2s_4 += [0.5 * np.sum(_q_4 ** 2)]\n",
    "    L2s_4 += [np.linalg.norm((u_pred-u_test).reshape([-1, 1]), 2) / np.linalg.norm(u_test.reshape([-1, 1]), 2)]"
   ]
  },
  {
   "cell_type": "code",
   "execution_count": 19,
   "id": "ed880e10",
   "metadata": {},
   "outputs": [
    {
     "name": "stdout",
     "output_type": "stream",
     "text": [
      "0.00025066584566234664\n",
      "0.011661613650176513\n"
     ]
    }
   ],
   "source": [
    "# check with reference\n",
    "c_ref = np.linalg.solve(XTX + 0.0001 * np.eye(100, dtype=np.float64), bb)\n",
    "print(np.linalg.norm(q_4 - c_ref, 1))\n",
    "u_pred = tf.matmul(basis, q_4).numpy()\n",
    "u_pred = u_pred.reshape([257, 257])\n",
    "L2 = np.linalg.norm((u_pred-u_test).reshape([-1, 1]), 2) / np.linalg.norm(u_test.reshape([-1, 1]), 2)\n",
    "print(L2)"
   ]
  },
  {
   "cell_type": "markdown",
   "id": "477b5ea6",
   "metadata": {},
   "source": [
    "#### Changing $\\alpha$ from $0.0001$ to $0.00001$"
   ]
  },
  {
   "cell_type": "code",
   "execution_count": 20,
   "id": "ef9db8cf",
   "metadata": {},
   "outputs": [],
   "source": [
    "P_5, q_5 = P_4.copy(), q_4.copy()\n",
    "\n",
    "h = 0.0000001\n",
    "lamb = 0.0001 - 0.00001\n",
    "Ps_5, qs_5 = [P_5], [q_5]\n",
    "for j in range(int(lamb//h)):\n",
    "    for i in range(100):\n",
    "        phi_i = np.zeros(shape=[1, 100])\n",
    "        phi_i[0, i] = 1\n",
    "        b_i = np.zeros(shape=[1, 1])\n",
    "        P_5, q_5 = methods.update_RK4(P_5, q_5, -h, phi_i, b_i, lamb=h)\n",
    "    Ps_5 += [P_5]\n",
    "    qs_5 += [q_5]"
   ]
  },
  {
   "cell_type": "code",
   "execution_count": 21,
   "id": "e4e76084",
   "metadata": {},
   "outputs": [],
   "source": [
    "f1s_5 = []\n",
    "f2s_5 = []\n",
    "L2s_5 = []\n",
    "alphas_5 = []\n",
    "h = 0.0000001\n",
    "for i, _q_5 in enumerate(qs_5):\n",
    "    alphas_5 += [0.0001 - i*h]\n",
    "    f_pred = meta.pde(x_train, y_train, tf.constant(_q_5, tf.float64)).numpy()\n",
    "    u_pred = tf.matmul(basis, _q_5).numpy().reshape([257, 257])\n",
    "    f1s_5 += [0.5 * np.sum((f_pred - f_train) ** 2)]\n",
    "    f2s_5 += [0.5 * np.sum(_q_5 ** 2)]\n",
    "    L2s_5 += [np.linalg.norm((u_pred-u_test).reshape([-1, 1]), 2) / np.linalg.norm(u_test.reshape([-1, 1]), 2)]"
   ]
  },
  {
   "cell_type": "code",
   "execution_count": 22,
   "id": "33003462",
   "metadata": {},
   "outputs": [
    {
     "name": "stdout",
     "output_type": "stream",
     "text": [
      "0.006688448015439451\n",
      "0.01473544862889329\n"
     ]
    }
   ],
   "source": [
    "# check with reference\n",
    "c_ref = np.linalg.solve(XTX + 0.00001 * np.eye(100, dtype=np.float64), bb)\n",
    "print(np.linalg.norm(q_5 - c_ref, 1))\n",
    "u_pred = tf.matmul(basis, q_5).numpy()\n",
    "u_pred = u_pred.reshape([257, 257])\n",
    "L2 = np.linalg.norm((u_pred-u_test).reshape([-1, 1]), 2) / np.linalg.norm(u_test.reshape([-1, 1]), 2)\n",
    "print(L2)"
   ]
  },
  {
   "cell_type": "markdown",
   "id": "53ebecdc",
   "metadata": {},
   "source": [
    "#### Results"
   ]
  },
  {
   "cell_type": "code",
   "execution_count": 23,
   "id": "74302a90",
   "metadata": {},
   "outputs": [
    {
     "data": {
      "image/png": "[encoded data removed]",
      "text/plain": [
       "<Figure size 600x400 with 1 Axes>"
      ]
     },
     "metadata": {
      "needs_background": "light"
     },
     "output_type": "display_data"
    }
   ],
   "source": [
    "# Error versus regularization weight\n",
    "plt.figure(dpi=100)\n",
    "plt.plot(np.log10(alphas_3), L2s_3)\n",
    "plt.plot(np.log10(alphas_4), L2s_4)\n",
    "plt.plot(np.log10(alphas_5), L2s_5)\n",
    "plt.show()"
   ]
  },
  {
   "cell_type": "code",
   "execution_count": 24,
   "id": "0088417d",
   "metadata": {},
   "outputs": [
    {
     "data": {
      "image/png": "[encoded data removed]",
      "text/plain": [
       "<Figure size 600x400 with 1 Axes>"
      ]
     },
     "metadata": {
      "needs_background": "light"
     },
     "output_type": "display_data"
    }
   ],
   "source": [
    "# Pareto front\n",
    "plt.figure(dpi=100)\n",
    "plt.plot(f1s_3, f2s_3)\n",
    "plt.plot(f1s_4, f2s_4)\n",
    "plt.plot(f1s_5, f2s_5)\n",
    "plt.show()"
   ]
  },
  {
   "cell_type": "code",
   "execution_count": null,
   "id": "c744491b",
   "metadata": {},
   "outputs": [],
   "source": []
  }
 ],
 "metadata": {
  "kernelspec": {
   "display_name": "Python 3 (ipykernel)",
   "language": "python",
   "name": "python3"
  },
  "language_info": {
   "codemirror_mode": {
    "name": "ipython",
    "version": 3
   },
   "file_extension": ".py",
   "mimetype": "text/x-python",
   "name": "python",
   "nbconvert_exporter": "python",
   "pygments_lexer": "ipython3",
   "version": "3.8.12"
  }
 },
 "nbformat": 4,
 "nbformat_minor": 5
}
